{
 "cells": [
  {
   "cell_type": "code",
   "execution_count": 9,
   "id": "7b9778fd-f0c2-4830-b6c9-d16ff4ace7c2",
   "metadata": {},
   "outputs": [
    {
     "ename": "ModuleNotFoundError",
     "evalue": "No module named 'OpenAI'",
     "output_type": "error",
     "traceback": [
      "\u001b[31m---------------------------------------------------------------------------\u001b[39m",
      "\u001b[31mModuleNotFoundError\u001b[39m                       Traceback (most recent call last)",
      "\u001b[36mCell\u001b[39m\u001b[36m \u001b[39m\u001b[32mIn[9]\u001b[39m\u001b[32m, line 1\u001b[39m\n\u001b[32m----> \u001b[39m\u001b[32m1\u001b[39m \u001b[38;5;28;01mimport\u001b[39;00m\u001b[38;5;250m \u001b[39m\u001b[34;01mOpenAI\u001b[39;00m\n\u001b[32m      2\u001b[39m os.environ[\u001b[33m\"\u001b[39m\u001b[33mOPENAI_API_KEY\u001b[39m\u001b[33m\"\u001b[39m] = \u001b[33m\"\u001b[39m\u001b[33msk-proj-DynMzxF1H4pqTElBGQTlSsYFAsRGLAeRKS90kint--PmLsfzf6vMANCmPuQIalPv3rZQMYERDAT3BlbkF15NTQAhEPAn4zr-1AivGnObXSFVWLk\u001b[39m\u001b[33m\"\u001b[39m\n\u001b[32m      3\u001b[39m client = OpenAI(api_key=os.environ[\u001b[33m\"\u001b[39m\u001b[33mOPENAI_API_KEY\u001b[39m\u001b[33m\"\u001b[39m])\n",
      "\u001b[31mModuleNotFoundError\u001b[39m: No module named 'OpenAI'"
     ]
    }
   ],
   "source": [
    "import OpenAI\n",
    "os.environ[\"OPENAI_API_KEY\"] = \"sk-proj-DynMzxF1H4pqTElBGQTlSsYFAsRGLAeRKS90kint--PmLsfzf6vMANCmPuQIalPv3rZQMYERDAT3BlbkF15NTQAhEPAn4zr-1AivGnObXSFVWLk\"\n",
    "client = OpenAI(api_key=os.environ[\"OPENAI_API_KEY\"])\n"
   ]
  },
  {
   "cell_type": "code",
   "execution_count": null,
   "id": "b7f1f5f6-85a5-485c-8e5d-e5929fffcf83",
   "metadata": {
    "collapsed": true,
    "jupyter": {
     "outputs_hidden": true,
     "source_hidden": true
    }
   },
   "outputs": [],
   "source": []
  },
  {
   "cell_type": "code",
   "execution_count": 10,
   "id": "0d082cdc-2b59-4d96-b28e-01ca726dcb83",
   "metadata": {},
   "outputs": [],
   "source": [
    "# Prompts básicos\n",
    "prompt_basico1 = \"Tarjeta de crédito\"\n",
    "prompt_basico2 = \"Explica qué es una tarjeta de crédito\"\n",
    "\n",
    "# Prompts optimizados\n",
    "prompt_optimizado1 = \"Ilustración colorida y simple de un adolescente usando una tarjeta de crédito en un supermercado, estilo educativo e infográfico\"\n",
    "prompt_optimizado2 = \"Eres un profesor de finanzas para adolescentes. Explica qué es una tarjeta de crédito usando un ejemplo cotidiano, lenguaje simple y un consejo práctico en menos de 150 palabras\""
   ]
  },
  {
   "cell_type": "code",
   "execution_count": 11,
   "id": "29c0d54e-5a44-47a8-b309-917977d877c4",
   "metadata": {},
   "outputs": [],
   "source": [
    "def generar_respuesta(prompt):\n",
    "    response = client.chat.completions.create(\n",
    "        model=\"gpt-4o-mini\",\n",
    "        messages=[{\"role\": \"user\", \"content\": prompt}]\n",
    "    )\n",
    "    return response.choices[0].message.content\n",
    "    "
   ]
  },
  {
   "cell_type": "code",
   "execution_count": 12,
   "id": "a3384fc2-418f-49ea-a325-de48dc706bc9",
   "metadata": {},
   "outputs": [],
   "source": [
    "def generar_respuesta(prompt):\n",
    "    respuestas_simuladas = {\n",
    "        prompt_basico1: \"Imagen de tarjeta de crédito\",\n",
    "        prompt_basico2: \"Una tarjeta de crédito es un instrumento que permite comprar ahora y pagar después.\",\n",
    "        prompt_optimizado1: \"Ilustración colorida de un adolescente usando tarjeta en supermercado, estilo educativo.\",\n",
    "        prompt_optimizado2: \"Una tarjeta de crédito permite comprar sin efectivo. Por ejemplo, si compras un libro y pagás el mes siguiente. Consejo: usa solo lo que puedas pagar para no endeudarte.\"\n",
    "    }\n",
    "    return respuestas_simuladas.get(prompt, \"Respuesta simulada no disponible\")"
   ]
  },
  {
   "cell_type": "code",
   "execution_count": 13,
   "id": "d1d06789-f5e3-4e68-90ab-d40906b2abfb",
   "metadata": {},
   "outputs": [
    {
     "name": "stdout",
     "output_type": "stream",
     "text": [
      "=== Prompt Básico 1 ===\n",
      "Imagen de tarjeta de crédito\n",
      "\n",
      "=== Prompt Optimizado 1 ===\n",
      "Ilustración colorida de un adolescente usando tarjeta en supermercado, estilo educativo.\n",
      "\n",
      "=== Prompt Básico 2 ===\n",
      "Una tarjeta de crédito es un instrumento que permite comprar ahora y pagar después.\n",
      "\n",
      "=== Prompt Optimizado 2 ===\n",
      "Una tarjeta de crédito permite comprar sin efectivo. Por ejemplo, si compras un libro y pagás el mes siguiente. Consejo: usa solo lo que puedas pagar para no endeudarte.\n"
     ]
    }
   ],
   "source": [
    "# Básicos\n",
    "res_basico1 = generar_respuesta(prompt_basico1)\n",
    "res_basico2 = generar_respuesta(prompt_basico2)\n",
    "\n",
    "# Optimizados\n",
    "res_opt1 = generar_respuesta(prompt_optimizado1)\n",
    "res_opt2 = generar_respuesta(prompt_optimizado2)\n",
    "\n",
    "print(\"=== Prompt Básico 1 ===\")\n",
    "print(res_basico1)\n",
    "print(\"\\n=== Prompt Optimizado 1 ===\")\n",
    "print(res_opt1)\n",
    "\n",
    "print(\"\\n=== Prompt Básico 2 ===\")\n",
    "print(res_basico2)\n",
    "print(\"\\n=== Prompt Optimizado 2 ===\")\n",
    "print(res_opt2)"
   ]
  },
  {
   "cell_type": "code",
   "execution_count": null,
   "id": "96c7dffc-885e-4bc1-b568-2efd4583d75d",
   "metadata": {},
   "outputs": [],
   "source": []
  },
  {
   "cell_type": "code",
   "execution_count": null,
   "id": "e3415b0e-6656-4ca4-9fc7-8c297d1f625a",
   "metadata": {},
   "outputs": [],
   "source": []
  },
  {
   "cell_type": "code",
   "execution_count": null,
   "id": "8ded9812-4cf4-407e-978b-29232d5ae328",
   "metadata": {},
   "outputs": [],
   "source": []
  },
  {
   "cell_type": "code",
   "execution_count": null,
   "id": "6ab1059a-6fe6-4bf6-9a60-7985d013abdc",
   "metadata": {},
   "outputs": [],
   "source": []
  },
  {
   "cell_type": "code",
   "execution_count": null,
   "id": "1572ed8b-6c8f-424e-a4c0-bba23fd5a2a8",
   "metadata": {},
   "outputs": [],
   "source": []
  },
  {
   "cell_type": "code",
   "execution_count": null,
   "id": "dad56654-af0c-43b3-ab88-467f05632972",
   "metadata": {},
   "outputs": [],
   "source": []
  },
  {
   "cell_type": "code",
   "execution_count": null,
   "id": "1ef439f5-cbf4-4f39-9c0c-e6208242edb7",
   "metadata": {},
   "outputs": [],
   "source": []
  },
  {
   "cell_type": "code",
   "execution_count": null,
   "id": "9e7321bb-bade-4ec7-9391-dce7d9d91f09",
   "metadata": {},
   "outputs": [],
   "source": []
  }
 ],
 "metadata": {
  "kernelspec": {
   "display_name": "Python 3 (ipykernel)",
   "language": "python",
   "name": "python3"
  },
  "language_info": {
   "codemirror_mode": {
    "name": "ipython",
    "version": 3
   },
   "file_extension": ".py",
   "mimetype": "text/x-python",
   "name": "python",
   "nbconvert_exporter": "python",
   "pygments_lexer": "ipython3",
   "version": "3.13.5"
  }
 },
 "nbformat": 4,
 "nbformat_minor": 5
}
